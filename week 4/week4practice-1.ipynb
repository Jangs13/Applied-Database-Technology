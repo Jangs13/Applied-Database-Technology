{
 "cells": [
  {
   "cell_type": "markdown",
   "id": "7d04d93b-06ff-4146-ac9c-ba65a0e5a96a",
   "metadata": {},
   "source": [
    "### Week-4 practice solutions. SQL CookBook (Chapter 5-7)"
   ]
  },
  {
   "cell_type": "markdown",
   "id": "b0870b77-4398-4dd4-b856-f81b02f0ddc6",
   "metadata": {},
   "source": [
    "##### Connect to MySQL database (Sakila)"
   ]
  },
  {
   "cell_type": "code",
   "execution_count": null,
   "id": "6ccda6f7-bd35-410f-b86f-1af0e0d5b52e",
   "metadata": {},
   "outputs": [],
   "source": [
    "config = {\n",
    "  'user': 'root',\n",
    "  'password': 'root',\n",
    "  'host': '127.0.0.1',\n",
    "  'port': 8889,\n",
    "  'database': 'sakila',\n",
    "  'raise_on_warnings': True\n",
    "}"
   ]
  },
  {
   "cell_type": "code",
   "execution_count": null,
   "id": "1da480e9",
   "metadata": {},
   "outputs": [],
   "source": [
    "!pip install mysql-connector-python"
   ]
  },
  {
   "cell_type": "code",
   "execution_count": null,
   "id": "098db5f1-eda8-446e-b569-3c1d0a8f7a46",
   "metadata": {},
   "outputs": [],
   "source": [
    "# create a MySQL server connection object\n",
    "import mysql.connector\n",
    "mydb = mysql.connector.connect(**config)"
   ]
  },
  {
   "cell_type": "code",
   "execution_count": null,
   "id": "4664da82-bc76-4264-b025-398d60dc4c7f",
   "metadata": {},
   "outputs": [],
   "source": [
    "# cursor object\n",
    "my_cursor = mydb.cursor(dictionary=True)"
   ]
  },
  {
   "cell_type": "markdown",
   "id": "cc6b34e4-5309-4f7b-b5de-c448b1e3b30d",
   "metadata": {},
   "source": [
    "##### Chapter-5"
   ]
  },
  {
   "cell_type": "raw",
   "id": "e063f80d-040b-4a0d-acf1-1018352c05e5",
   "metadata": {},
   "source": [
    "5.1 Listing tables in a schema"
   ]
  },
  {
   "cell_type": "markdown",
   "id": "7dd3b7a1",
   "metadata": {},
   "source": [
    "information_schema.tables->storing information about all the tables in that particular schema\n",
    "\n",
    "information_schema.column->storing information about all the columns in that particular table\n",
    "\n",
    "information_schema.key_column_usage-> storing information about all the keys and indexes in that particular schema\n",
    "\n",
    "information_schema.table_constraints -> storing information about all the constraints in all the tables in that particular schema"
   ]
  },
  {
   "cell_type": "code",
   "execution_count": null,
   "id": "d8f792d3-d1d6-4909-a39d-69b06a9728f6",
   "metadata": {},
   "outputs": [],
   "source": [
    "my_cursor.execute(\" SELECT table_name FROM information_schema.tables WHERE table_schema ='sakila' \")\n",
    "my_result = my_cursor.fetchall()"
   ]
  },
  {
   "cell_type": "code",
   "execution_count": null,
   "id": "256db242-91cc-48d6-8b22-d8a0abe5df4a",
   "metadata": {},
   "outputs": [],
   "source": [
    "for table in my_result:\n",
    "    print(table)"
   ]
  },
  {
   "cell_type": "raw",
   "id": "8d723d0d-fdfc-48c3-8a87-b777e9f20757",
   "metadata": {},
   "source": [
    "5.2 Listing a table's columns"
   ]
  },
  {
   "cell_type": "code",
   "execution_count": null,
   "id": "a5950ab1-7dfe-4fe6-aa03-4f9f3560fa4d",
   "metadata": {},
   "outputs": [],
   "source": [
    "# Just fetching the tables\n",
    "print(f\"Table: {my_result[0]['table_name']}\")\n",
    "print(f\"Total number of tables: {len(my_result)}\")"
   ]
  },
  {
   "cell_type": "code",
   "execution_count": null,
   "id": "0f8b4a8e-08b4-4d66-9a71-f242e4c72157",
   "metadata": {},
   "outputs": [],
   "source": [
    "for table_num in range(len(my_result)):\n",
    "    table_name = my_result[table_num]['table_name']\n",
    "    my_cursor.execute(f\" SELECT column_name, data_type, ordinal_position FROM information_schema.columns WHERE table_schema ='sakila' AND table_name='{table_name}' \")\n",
    "    column_names = my_cursor.fetchall()\n",
    "    print()\n",
    "    print(f'column names for table: {table_name}')\n",
    "    print('-------------------------------------')\n",
    "    print(column_names)"
   ]
  },
  {
   "cell_type": "markdown",
   "id": "34a383eb",
   "metadata": {},
   "source": [
    "5.3 Listing Indexed Columns for a Table"
   ]
  },
  {
   "cell_type": "code",
   "execution_count": null,
   "id": "6746a052",
   "metadata": {},
   "outputs": [],
   "source": [
    "my_cursor.execute(\"show index from actor;\")\n",
    "my_index= my_cursor.fetchall()\n",
    "for idx in my_index:\n",
    "    print(idx)\n"
   ]
  },
  {
   "cell_type": "markdown",
   "id": "e1b7665a",
   "metadata": {},
   "source": [
    "5.4 Listing Constraints on a Table"
   ]
  },
  {
   "cell_type": "code",
   "execution_count": null,
   "id": "bb0d33a8",
   "metadata": {},
   "outputs": [],
   "source": [
    "sql_query='''SELECT a.table_name,\n",
    "       a.constraint_name,\n",
    "       b.column_name,\n",
    "       a.constraint_type\n",
    "FROM information_schema.table_constraints AS a,\n",
    "     information_schema.key_column_usage AS b\n",
    "WHERE a.table_name = 'address'\n",
    "AND a.table_schema = 'sakila'\n",
    "and a.table_name = b.table_name\n",
    "AND a.table_schema = b.table_schema\n",
    "AND a.constraint_name = b.constraint_name;\n",
    "'''\n",
    "\n",
    "my_cursor.execute(sql_query)\n",
    "constraints=my_cursor.fetchall()\n",
    "for row in constraints:\n",
    "    print(row)"
   ]
  },
  {
   "cell_type": "markdown",
   "id": "3f05c36f",
   "metadata": {},
   "source": [
    "5.5 Listing Foreign Keys Without Corresponding Indexes"
   ]
  },
  {
   "cell_type": "code",
   "execution_count": null,
   "id": "decb2a30",
   "metadata": {},
   "outputs": [],
   "source": [
    "sql_query='''SELECT * FROM INFORMATION_SCHEMA.KEY_COLUMN_USAGE \n",
    "WHERE TABLE_SCHEMA = 'sakila' AND TABLE_NAME = 'address';\n",
    "'''\n",
    "\n",
    "my_cursor.execute(sql_query)\n",
    "foreign_keys=my_cursor.fetchall()\n",
    "for row in foreign_keys:\n",
    "    print(row)"
   ]
  },
  {
   "cell_type": "code",
   "execution_count": null,
   "id": "ddceda19",
   "metadata": {},
   "outputs": [],
   "source": [
    "sql_query='''SHOW INDEX FROM sakila.address;\n",
    "'''\n",
    "\n",
    "my_cursor.execute(sql_query)\n",
    "foreign_index=my_cursor.fetchall()\n",
    "for row in foreign_index:\n",
    "    print(row)"
   ]
  },
  {
   "cell_type": "markdown",
   "id": "75b09c05",
   "metadata": {},
   "source": [
    "Here, we can see that there is an index present on the foreign key on the column city_id. In MySQL, when you define a foreign key constraint, an index on the columns involved is automatically created if it does not exist. \n"
   ]
  },
  {
   "cell_type": "markdown",
   "id": "3247c991",
   "metadata": {},
   "source": [
    "5.6 Using SQL to Generate SQL "
   ]
  },
  {
   "cell_type": "code",
   "execution_count": null,
   "id": "0141dbd2",
   "metadata": {},
   "outputs": [],
   "source": [
    "sql_query='''SELECT CONCAT('SELECT COUNT(*) FROM ', table_schema, '.', table_name, ';') \n",
    "FROM information_schema.tables \n",
    "WHERE table_schema = 'sakila';\n",
    "'''\n",
    "\n",
    "my_cursor.execute(sql_query)\n",
    "cnt=my_cursor.fetchall()\n",
    "for row in cnt:\n",
    "    print(list(row.values())[0])"
   ]
  },
  {
   "cell_type": "code",
   "execution_count": null,
   "id": "0cd48087",
   "metadata": {},
   "outputs": [],
   "source": [
    "sql_query='''SELECT CONCAT('ALTER TABLE ', table_name,' DROP FOREIGN KEY ', constraint_name, ';') \n",
    "FROM information_schema.KEY_COLUMN_USAGE \n",
    "WHERE table_schema = 'sakila' AND REFERENCED_TABLE_NAME IS NOT NULL;\n",
    "'''\n",
    "\n",
    "my_cursor.execute(sql_query)\n",
    "cnt=my_cursor.fetchall()\n",
    "for row in cnt:\n",
    "    print(list(row.values())[0])"
   ]
  },
  {
   "cell_type": "markdown",
   "id": "73dca632",
   "metadata": {},
   "source": [
    "You check the foreign key constraints are present in all the tables in the database"
   ]
  },
  {
   "cell_type": "code",
   "execution_count": null,
   "id": "5e5a764e",
   "metadata": {},
   "outputs": [],
   "source": [
    "# OPTIONAL\n",
    "sql_query='''SELECT \n",
    "  table_name,\n",
    "  column_name,\n",
    "  constraint_name,\n",
    "  referenced_table_name,\n",
    "  referenced_column_name\n",
    "FROM\n",
    "  information_schema.KEY_COLUMN_USAGE\n",
    "WHERE\n",
    "  REFERENCED_TABLE_SCHEMA = 'sakila'\n",
    "  AND REFERENCED_TABLE_NAME IS NOT NULL;\n",
    "'''\n",
    "\n",
    "\n",
    "my_cursor.execute(sql_query)\n",
    "foreign_keys=my_cursor.fetchall()\n",
    "for row in foreign_keys:\n",
    "    print(row)"
   ]
  },
  {
   "cell_type": "code",
   "execution_count": null,
   "id": "f994b61a",
   "metadata": {},
   "outputs": [],
   "source": [
    "sql_query='''SELECT CONCAT('INSERT INTO actor(actor_id, first_name, last_name) VALUES(', actor_id, ', \"', first_name, '\", \"', last_name, '\");') \n",
    "FROM actor \n",
    "WHERE actor_id = 10;\n",
    "'''\n",
    "\n",
    "my_cursor.execute(sql_query)\n",
    "cnt=my_cursor.fetchall()\n",
    "for row in cnt:\n",
    "    print(list(row.values())[0])"
   ]
  },
  {
   "cell_type": "markdown",
   "id": "2741df58",
   "metadata": {},
   "source": [
    "5.7 Describing the Data Dictionary Views "
   ]
  },
  {
   "cell_type": "code",
   "execution_count": null,
   "id": "eff11552",
   "metadata": {},
   "outputs": [],
   "source": [
    "##Query to list data dictionary views and their purposes:\n",
    "sql_query='''SELECT table_name, table_comment \n",
    "FROM information_schema.TABLES \n",
    "WHERE TABLE_SCHEMA = 'sakila';\n",
    "\n",
    "'''\n",
    "\n",
    "\n",
    "my_cursor.execute(sql_query)\n",
    "views=my_cursor.fetchall()\n",
    "for row in views:\n",
    "    print(row)"
   ]
  },
  {
   "cell_type": "code",
   "execution_count": null,
   "id": "2596790b",
   "metadata": {},
   "outputs": [],
   "source": [
    "##Query to describe the columns in a given data dictionary view:\n",
    "sql_query='''SELECT COLUMN_NAME, COLUMN_COMMENT \n",
    "FROM information_schema.COLUMNS \n",
    "WHERE TABLE_SCHEMA = 'sakila' AND TABLE_NAME = 'actor';\n",
    "\n",
    "\n",
    "'''\n",
    "\n",
    "\n",
    "my_cursor.execute(sql_query)\n",
    "views=my_cursor.fetchall()\n",
    "for row in views:\n",
    "    print(row)"
   ]
  },
  {
   "cell_type": "markdown",
   "id": "9bd39c9e-5fc3-4c4d-b860-850db322f1fa",
   "metadata": {},
   "source": [
    "##### Chapter-6\n",
    "##### Working with Strings"
   ]
  },
  {
   "cell_type": "markdown",
   "id": "a0ee620f-d7ab-4023-a157-150f680c0842",
   "metadata": {},
   "source": [
    "##### Counting the occurances of a Charecter in a string"
   ]
  },
  {
   "cell_type": "markdown",
   "id": "2de85e53-8ef0-45fa-8967-af48f1fceaa1",
   "metadata": {},
   "source": [
    "- Counting the number of open brackets in a string."
   ]
  },
  {
   "cell_type": "markdown",
   "id": "a194358a",
   "metadata": {},
   "source": [
    "Make sure to use a different connection and different cursor object"
   ]
  },
  {
   "cell_type": "code",
   "execution_count": null,
   "id": "0845dfb9",
   "metadata": {},
   "outputs": [],
   "source": [
    "shreya_config = {\n",
    "  'user': 'root',\n",
    "  'password': 'root',\n",
    "  'host': '127.0.0.1',\n",
    "  'port': 8889,\n",
    "  'database': 'shreya',\n",
    "  'raise_on_warnings': True\n",
    "}"
   ]
  },
  {
   "cell_type": "code",
   "execution_count": null,
   "id": "bf7c8d09",
   "metadata": {},
   "outputs": [],
   "source": [
    "shreya_db = mysql.connector.connect(**shreya_config)\n",
    "# cursor object\n",
    "new_cursor = shreya_db.cursor(dictionary=True)"
   ]
  },
  {
   "cell_type": "code",
   "execution_count": null,
   "id": "01233919",
   "metadata": {},
   "outputs": [],
   "source": [
    "new_cursor.execute('''SELECT * FROM emp''')\n",
    "for emp_table in new_cursor:\n",
    "    print(emp_table)\n"
   ]
  },
  {
   "cell_type": "code",
   "execution_count": null,
   "id": "8963c54a",
   "metadata": {},
   "outputs": [],
   "source": [
    "new_cursor.execute('''SELECT * FROM dept''')\n",
    "for dept_table in new_cursor:\n",
    "    print(dept_table)\n"
   ]
  },
  {
   "cell_type": "markdown",
   "id": "6ee29575",
   "metadata": {},
   "source": [
    "##### 6.4 Removing unwanted characters from string"
   ]
  },
  {
   "cell_type": "markdown",
   "id": "e17e5840",
   "metadata": {},
   "source": [
    "- For Example, removing char 'P' from the name"
   ]
  },
  {
   "cell_type": "code",
   "execution_count": null,
   "id": "39f751ce",
   "metadata": {},
   "outputs": [],
   "source": [
    "new_cursor.execute('''select ename,\n",
    "            replace(\n",
    "            replace(\n",
    "            replace(\n",
    "            replace(\n",
    "            replace(ename,'A',''),'E',''),'I',''),'O',''),'U','')\n",
    "            as stripped1\n",
    "            from emp;''')\n",
    "for characters in new_cursor:\n",
    "    print(characters)"
   ]
  },
  {
   "cell_type": "markdown",
   "id": "92b68385",
   "metadata": {},
   "source": [
    "Using the my_cursor object as we are connecting to sakila database to execute this query"
   ]
  },
  {
   "cell_type": "code",
   "execution_count": null,
   "id": "65c2f23a",
   "metadata": {},
   "outputs": [],
   "source": [
    "my_cursor.execute(''' SELECT first_name, REPLACE(first_name, 'P', '') as strp1 FROM actor LIMIT 1''')\n",
    "for repc in my_cursor:\n",
    "    print(repc)"
   ]
  },
  {
   "cell_type": "markdown",
   "id": "761576b4",
   "metadata": {},
   "source": [
    "6.5 Separating Numeric and Character Data - Skip as it uses Translate function"
   ]
  },
  {
   "cell_type": "markdown",
   "id": "01566809",
   "metadata": {},
   "source": [
    "6.6 Determining Whether a String Is Alphanumeric"
   ]
  },
  {
   "cell_type": "code",
   "execution_count": null,
   "id": "4013eed7",
   "metadata": {},
   "outputs": [],
   "source": [
    "new_cursor.execute('''create view V as\n",
    "    select ename as data\n",
    "    from emp\n",
    "    where deptno=10\n",
    "    union all\n",
    "    select concat(ename,', $',sal,'.00') as data\n",
    "    from emp\n",
    "    where deptno=20\n",
    "    union all\n",
    "    select concat(ename,deptno) as data\n",
    "    from emp\n",
    "    where deptno=30;''')\n",
    "for V_view in new_cursor:\n",
    "    print(V_view)"
   ]
  },
  {
   "cell_type": "code",
   "execution_count": null,
   "id": "c82e5031",
   "metadata": {},
   "outputs": [],
   "source": [
    "new_cursor.execute('''select * from V''')\n",
    "for V_view in new_cursor:\n",
    "    print(V_view)"
   ]
  },
  {
   "cell_type": "code",
   "execution_count": null,
   "id": "6f3484a3",
   "metadata": {},
   "outputs": [],
   "source": [
    "new_cursor.execute('''select data from V where data regexp '[^0-9a-zA-Z]' = 0;''')\n",
    "for V_view in new_cursor:\n",
    "    print(V_view)"
   ]
  },
  {
   "cell_type": "markdown",
   "id": "f4b281a6",
   "metadata": {},
   "source": [
    "6.7 Extracting Initials from a Name"
   ]
  },
  {
   "cell_type": "markdown",
   "id": "0cb6b230",
   "metadata": {},
   "source": [
    "Using the my_cursor object as we are connecting to sakila database for this query"
   ]
  },
  {
   "cell_type": "code",
   "execution_count": null,
   "id": "0e57bf60-15af-4c04-8c63-c32f6a976fa3",
   "metadata": {},
   "outputs": [],
   "source": [
    "my_cursor.execute('''SELECT ((LENGTH('334 Munger (Monghyr) Lane')) - LENGTH(REPLACE('334 Munger (Monghyr) Lane', '(', ''))) / LENGTH(\"(\") AS cnt ''')\n",
    "for cnt in my_cursor:\n",
    "    print(cnt)"
   ]
  },
  {
   "cell_type": "code",
   "execution_count": null,
   "id": "9a7fd9d8",
   "metadata": {},
   "outputs": [],
   "source": [
    "my_cursor.execute('''\n",
    "    SELECT * from actor\n",
    "''')\n",
    "for cnt in my_cursor:\n",
    "    print(cnt)"
   ]
  },
  {
   "cell_type": "code",
   "execution_count": null,
   "id": "5739fdae",
   "metadata": {},
   "outputs": [],
   "source": [
    "my_cursor.execute('''\n",
    "    SELECT first_name, last_name, CONCAT(SUBSTRING(SUBSTRING_INDEX(first_name, ' ', 1), 1, 1), '.', SUBSTRING(SUBSTRING_INDEX(last_name, ' ', -1), 1, 1)) AS initials\n",
    "    FROM actor;\n",
    "''')\n",
    "for cnt in my_cursor:\n",
    "    print(cnt)"
   ]
  },
  {
   "cell_type": "markdown",
   "id": "e887ae3b",
   "metadata": {},
   "source": [
    "6.8 Ordering by Parts of a String"
   ]
  },
  {
   "cell_type": "code",
   "execution_count": null,
   "id": "14ac46ad",
   "metadata": {},
   "outputs": [],
   "source": [
    "## ordering by last two characters\n",
    "new_cursor.execute('''select ename from emp order by substr(ename,length(ename)-1,2);''')\n",
    "for sub in new_cursor:\n",
    "    print(sub)"
   ]
  },
  {
   "cell_type": "code",
   "execution_count": null,
   "id": "b714d6f8",
   "metadata": {},
   "outputs": [],
   "source": [
    "my_cursor.execute(''' SELECT title FROM film ORDER BY SUBSTR(title, LENGTH(title) - 1) LIMIT 5; ''')\n",
    "conc_res = my_cursor.fetchall()\n",
    "print(conc_res)"
   ]
  },
  {
   "cell_type": "markdown",
   "id": "74526d90",
   "metadata": {},
   "source": [
    "6.9 Ordering by a Number in a String - Cannot execute as MySQL does not provide the TRANSLATE function"
   ]
  },
  {
   "cell_type": "markdown",
   "id": "32dd6426",
   "metadata": {},
   "source": [
    "6.10 Creating a Delimited List from Table Rows"
   ]
  },
  {
   "cell_type": "code",
   "execution_count": null,
   "id": "b729be60",
   "metadata": {},
   "outputs": [],
   "source": [
    "new_cursor.execute('''select deptno, group_concat(ename order by empno separator ',') as emps from emp group by deptno;''')\n",
    "for delimit in new_cursor:\n",
    "    print(delimit)"
   ]
  },
  {
   "cell_type": "markdown",
   "id": "03c4c677",
   "metadata": {},
   "source": [
    "6.11 Converting Delimited Data into a Multivalued IN-List"
   ]
  },
  {
   "cell_type": "code",
   "execution_count": null,
   "id": "a5518de7",
   "metadata": {},
   "outputs": [],
   "source": [
    "## here, the IN LIST ( '7654,7698,7782,7788' ) is considered to be a string rather than a comma delimited list\n",
    "new_cursor.execute('''select empno, ename,sal,deptno\n",
    "    from emp\n",
    "    where empno in ( 7654,7698,7782,7788 );''')\n",
    "for delimit in new_cursor:\n",
    "    print(delimit)"
   ]
  },
  {
   "cell_type": "code",
   "execution_count": null,
   "id": "dfb44cbf",
   "metadata": {},
   "outputs": [],
   "source": [
    "new_cursor.execute('''select ename,sal,deptno\n",
    "    from emp\n",
    "    where empno= 7654;''')\n",
    "for delimit in new_cursor:\n",
    "    print(delimit)"
   ]
  },
  {
   "cell_type": "code",
   "execution_count": null,
   "id": "e776377f",
   "metadata": {},
   "outputs": [],
   "source": [
    "new_cursor.execute('''CREATE TEMPORARY TABLE temp_numbers (id INT);''')\n",
    "for temp in new_cursor:\n",
    "    print(temp)"
   ]
  },
  {
   "cell_type": "code",
   "execution_count": null,
   "id": "c8846faa",
   "metadata": {},
   "outputs": [],
   "source": [
    "new_cursor.execute('''INSERT INTO temp_numbers (id) VALUES \n",
    "(1), (2), (3), (4), (5), (6), (7), (8), (9), (10),\n",
    "(11), (12), (13), (14), (15), (16), (17), (18), (19), (20);''')\n",
    "for temp in new_cursor:\n",
    "    print(temp)"
   ]
  },
  {
   "cell_type": "code",
   "execution_count": null,
   "id": "489e842a",
   "metadata": {},
   "outputs": [],
   "source": [
    "new_cursor.execute('''select empno, ename, sal, deptno \n",
    "    from emp\n",
    "    where empno in\n",
    "    ( select substring_index(\n",
    "     substring_index(list.vals,',',iter.id),',',-1) empno\n",
    "    from temp_numbers as iter,\n",
    "    (select '7654,7698,7782,7788' as vals\n",
    "    from (select 1) as dummy_table\n",
    "    )list\n",
    "    where iter.id <=\n",
    "    (length(list.vals)-length(replace(list.vals,',','')))+1\n",
    "    );''')\n",
    "for delimit in new_cursor:\n",
    "    print(delimit)"
   ]
  },
  {
   "cell_type": "markdown",
   "id": "584f39bc",
   "metadata": {},
   "source": [
    "6.12 Alphabetizing a String"
   ]
  },
  {
   "cell_type": "code",
   "execution_count": null,
   "id": "47195077",
   "metadata": {},
   "outputs": [],
   "source": [
    "new_cursor.execute('''select ename, group_concat(c order by c separator '') AS sorted_ename\n",
    "    from (\n",
    "    select ename, substr(a.ename,iter.id,1) c\n",
    "    from emp a, temp_numbers iter\n",
    "    WHERE iter.id <= LENGTH(a.ename)\n",
    "    ) x\n",
    "    GROUP BY ename;''')\n",
    "for alpha in new_cursor:\n",
    "    print(alpha)"
   ]
  },
  {
   "cell_type": "markdown",
   "id": "0f998420",
   "metadata": {},
   "source": [
    "6.13 Identifying Strings That Can Be Treated as Numbers\n"
   ]
  },
  {
   "cell_type": "code",
   "execution_count": null,
   "id": "cf944c6a",
   "metadata": {},
   "outputs": [],
   "source": [
    "new_cursor.execute('''create view P as\n",
    "    select concat(\n",
    "    substr(ename,1,2),\n",
    "    replace(cast(deptno as char(4)),' ',''),\n",
    "    substr(ename,3,2)\n",
    "    ) as mixed\n",
    "    from emp\n",
    "    where deptno = 10\n",
    "    union all\n",
    "    select replace(cast(empno as char(4)), ' ', '')\n",
    "    from emp where deptno = 20\n",
    "    union all\n",
    "    select ename from emp where deptno = 30;''')\n",
    "for View_P in new_cursor:\n",
    "    print(View_P)"
   ]
  },
  {
   "cell_type": "code",
   "execution_count": null,
   "id": "97069093",
   "metadata": {},
   "outputs": [],
   "source": [
    "new_cursor.execute('''select * from P''')\n",
    "for View_P in new_cursor:\n",
    "    print(View_P)"
   ]
  },
  {
   "cell_type": "code",
   "execution_count": null,
   "id": "fde6682a",
   "metadata": {
    "scrolled": true
   },
   "outputs": [],
   "source": [
    "new_cursor.execute('''select cast(group_concat(c order by pos separator '') as unsigned)\n",
    "        as MIXED1\n",
    "        from (\n",
    "        select P.mixed, iter.id AS pos, substr(P.mixed,iter.id,1) as c from P,\n",
    "        temp_numbers as iter where iter.id <= length(P.mixed)\n",
    "        and ascii(substr(P.mixed,iter.id,1)) between 48 and 57)y\n",
    "        \n",
    "        group by mixed\n",
    "        order by 1;''')\n",
    "for str in new_cursor:\n",
    "    print(str)"
   ]
  },
  {
   "cell_type": "markdown",
   "id": "b314894e",
   "metadata": {},
   "source": [
    "6.14 Extracting the nth Delimited Substring"
   ]
  },
  {
   "cell_type": "code",
   "execution_count": null,
   "id": "e1f5fb22",
   "metadata": {},
   "outputs": [],
   "source": [
    "new_cursor.execute('''CREATE TABLE permanent_numbers (id INT PRIMARY KEY);''')\n",
    "for str in new_cursor:\n",
    "    print(str)"
   ]
  },
  {
   "cell_type": "code",
   "execution_count": null,
   "id": "0e65768c",
   "metadata": {},
   "outputs": [],
   "source": [
    "new_cursor.execute('''INSERT INTO permanent_numbers VALUES (1), (2), (3),(4), (5), (6), (7), (8), (9), (10),\n",
    "(11), (12), (13), (14), (15), (16), (17), (18), (19), (20);\n",
    "''')\n",
    "for temp in new_cursor:\n",
    "    print(temp)"
   ]
  },
  {
   "cell_type": "code",
   "execution_count": null,
   "id": "46269fad",
   "metadata": {},
   "outputs": [],
   "source": [
    "new_cursor.execute('''CREATE VIEW C AS\n",
    "    SELECT 'mo,larry,curly' AS name\n",
    "    FROM permanent_numbers\n",
    "    UNION ALL\n",
    "    SELECT 'tina,gina,jaunita,regina,leena' AS name\n",
    "    FROM permanent_numbers;''')\n",
    "for View_C in new_cursor:\n",
    "    print(View_C)"
   ]
  },
  {
   "cell_type": "code",
   "execution_count": null,
   "id": "97cbab50",
   "metadata": {},
   "outputs": [],
   "source": [
    "new_cursor.execute('''select distinct  * from C;''')\n",
    "for View_C in new_cursor:\n",
    "    print(View_C)"
   ]
  },
  {
   "cell_type": "code",
   "execution_count": null,
   "id": "c292ece5",
   "metadata": {},
   "outputs": [],
   "source": []
  },
  {
   "cell_type": "code",
   "execution_count": null,
   "id": "3bfbdbf4",
   "metadata": {},
   "outputs": [],
   "source": [
    "new_cursor.execute('''Select distinct name\n",
    "        from (\n",
    "        select iter.id AS pos,\n",
    "        substring_index(\n",
    "        substring_index(src.name,',',iter.id),',',-1) AS name\n",
    "        from C src,\n",
    "        temp_numbers iter\n",
    "        where iter.id <=\n",
    "        length(src.name)-length(replace(src.name,',',''))\n",
    "        ) x\n",
    "        where pos = 2 LIMIT 2;''')\n",
    "for View_C in new_cursor:\n",
    "    print(View_C)"
   ]
  },
  {
   "cell_type": "code",
   "execution_count": null,
   "id": "fcf118f8",
   "metadata": {
    "scrolled": false
   },
   "outputs": [],
   "source": [
    "new_cursor.execute('''select iter.id AS pos, src.name\n",
    "from temp_numbers iter, C src\n",
    "where iter.id <= length(src.name) - length(replace(src.name, ',', '')) LIMIT 1;''')\n",
    "for View_C in new_cursor:\n",
    "    print(View_C)"
   ]
  },
  {
   "cell_type": "code",
   "execution_count": null,
   "id": "5256c71b",
   "metadata": {},
   "outputs": [],
   "source": [
    "new_cursor.execute('''select iter.id AS pos, src.name AS name1,\n",
    "    substring_index(src.name,',',iter.id) AS name2,\n",
    "    substring_index(\n",
    "    substring_index(src.name,',',iter.id),',',-1) AS name3\n",
    "    from temp_numbers iter,\n",
    "    C src\n",
    "    where iter.id <= length(src.name) - length(replace(src.name,',','')) LIMIT 2;''')\n",
    "for View_C in new_cursor:\n",
    "    print(View_C)"
   ]
  },
  {
   "cell_type": "markdown",
   "id": "bea82137",
   "metadata": {},
   "source": [
    "6.15 Parsing an IP Address"
   ]
  },
  {
   "cell_type": "code",
   "execution_count": null,
   "id": "77d6a06f",
   "metadata": {},
   "outputs": [],
   "source": [
    "new_cursor.execute('''select substring_index(substring_index(y.ip,'.',1),'.',-1) a,\n",
    "       substring_index(substring_index(y.ip,'.',2),'.',-1) b,\n",
    "       substring_index(substring_index(y.ip,'.',3),'.',-1) c,\n",
    "       substring_index(substring_index(y.ip,'.',4),'.',-1) d\n",
    "from (select '92.111.0.2' as ip from temp_numbers LIMIT 1) y;\n",
    "''')\n",
    "for address in new_cursor:\n",
    "    print(address)"
   ]
  },
  {
   "cell_type": "markdown",
   "id": "ad915f77",
   "metadata": {},
   "source": [
    "6.16 Comparing Strings by Sound"
   ]
  },
  {
   "cell_type": "code",
   "execution_count": null,
   "id": "1e0c5b3e",
   "metadata": {},
   "outputs": [],
   "source": [
    "new_cursor.execute('''CREATE TABLE author_names (\n",
    "    a_name VARCHAR(50));''')\n",
    "for author in new_cursor:\n",
    "    print(author)"
   ]
  },
  {
   "cell_type": "code",
   "execution_count": null,
   "id": "cf35c7ad",
   "metadata": {},
   "outputs": [],
   "source": [
    "new_cursor.execute('''INSERT INTO author_names (a_name) VALUES\n",
    "('Johnson'),\n",
    "('Jonson'),\n",
    "('Jonsen'),\n",
    "('Jensen'),\n",
    "('Johnsen'),\n",
    "('Shakespeare'),\n",
    "('Shakspear'),\n",
    "('Shaekspir'),\n",
    "('Shakespar');\n",
    "''')\n",
    "\n",
    "for author in new_cursor:\n",
    "    print(author)"
   ]
  },
  {
   "cell_type": "code",
   "execution_count": null,
   "id": "536d8ddb",
   "metadata": {
    "scrolled": true
   },
   "outputs": [],
   "source": [
    "new_cursor.execute('''select distinct an1.a_name as name1, an2.a_name as name2,\n",
    "    SOUNDEX(an1.a_name) as Soundex_Name\n",
    "    from author_names an1\n",
    "    join author_names an2\n",
    "    on (SOUNDEX(an1.a_name)=SOUNDEX(an2.a_name)\n",
    "    and an1.a_name!=  an2.a_name);''')\n",
    "\n",
    "for author in new_cursor:\n",
    "    print(author)"
   ]
  },
  {
   "cell_type": "markdown",
   "id": "f55b9eaa",
   "metadata": {},
   "source": [
    "6.17 Finding Text Not Matching a Pattern:  Skip as this is a specific Oracle Database query."
   ]
  },
  {
   "cell_type": "markdown",
   "id": "cc64c0d6-f6e0-4f81-badf-309076cc5f96",
   "metadata": {},
   "source": [
    "##### Chapter-7\n",
    "- 7.1 Computing an Average"
   ]
  },
  {
   "cell_type": "code",
   "execution_count": null,
   "id": "599b6a26",
   "metadata": {},
   "outputs": [],
   "source": [
    "# cursor object for sakila database\n",
    "mydb = mysql.connector.connect(**config)\n",
    "my_cursor = mydb.cursor(dictionary=True)"
   ]
  },
  {
   "cell_type": "code",
   "execution_count": null,
   "id": "7338562b-679c-413a-8890-53180b4334c9",
   "metadata": {},
   "outputs": [],
   "source": [
    "my_cursor.execute('''SELECT AVG(amount) AS avg_amount FROM payment''')\n",
    "avg_res = my_cursor.fetchall()\n",
    "print(avg_res)"
   ]
  },
  {
   "cell_type": "raw",
   "id": "dce7e279-94f2-4b09-8b5f-db69979655a7",
   "metadata": {},
   "source": [
    "Group the avg payment by date."
   ]
  },
  {
   "cell_type": "code",
   "execution_count": null,
   "id": "2c56ec2e-0213-47dd-97ed-e8ff808bfbfd",
   "metadata": {},
   "outputs": [],
   "source": [
    "my_cursor.execute('''SELECT AVG(amount) AS avg_amount FROM payment GROUP BY payment_date LIMIT 5''')\n",
    "avg_res = my_cursor.fetchall()\n",
    "print(avg_res)"
   ]
  },
  {
   "cell_type": "raw",
   "id": "47ffefcc-8999-48e8-846d-2875fb77e839",
   "metadata": {},
   "source": [
    "7.2 Finding the Min and Max values"
   ]
  },
  {
   "cell_type": "raw",
   "id": "a7e350b2-75cd-4883-8ee9-09f84d9a67f7",
   "metadata": {},
   "source": [
    "Highest payment done."
   ]
  },
  {
   "cell_type": "code",
   "execution_count": null,
   "id": "7c3a32cd-5912-43c7-952f-5a0cb2b5ab69",
   "metadata": {},
   "outputs": [],
   "source": [
    "my_cursor.execute(''' SELECT MAX(amount) AS MAX_PAYMENT FROM payment ''')\n",
    "minmax_res = my_cursor.fetchall()\n",
    "print(minmax_res)"
   ]
  },
  {
   "cell_type": "raw",
   "id": "0ce904e0-e0c2-4618-9d1f-df551f090385",
   "metadata": {},
   "source": [
    "7.3 Summing the values in a column"
   ]
  },
  {
   "cell_type": "code",
   "execution_count": null,
   "id": "3208f2cb-5916-45e8-9732-f5054b5a5f65",
   "metadata": {},
   "outputs": [],
   "source": [
    "my_cursor.execute(''' SELECT SUM(amount) AS TOTAL_PAYMENT FROM payment ''')\n",
    "minmax_res = my_cursor.fetchall()\n",
    "print(minmax_res)"
   ]
  },
  {
   "cell_type": "raw",
   "id": "cb792d89-2694-453b-8cbc-c22c109587e9",
   "metadata": {},
   "source": [
    "7.4 Counting rows in a table"
   ]
  },
  {
   "cell_type": "code",
   "execution_count": null,
   "id": "5a4e09e6-a86f-448b-b00b-ac8382002165",
   "metadata": {},
   "outputs": [],
   "source": [
    "my_cursor.execute(''' SELECT COUNT(*) AS total FROM film ''')\n",
    "total_rows = my_cursor.fetchall()\n",
    "print(total_rows)"
   ]
  },
  {
   "cell_type": "raw",
   "id": "5b17cc0d-86e7-4929-a088-8b3682e9e4ee",
   "metadata": {},
   "source": [
    "Computing avg without high and low values."
   ]
  },
  {
   "cell_type": "code",
   "execution_count": null,
   "id": "26d12e7d-1037-4513-9b14-ab7ec672e6b4",
   "metadata": {},
   "outputs": [],
   "source": [
    "# This will exclude all the Max and Min values (if the column contains more than one max and min)\n",
    "my_cursor.execute(''' SELECT AVG(amount) AS avg_without_high_low_values FROM payment WHERE amount NOT IN ((SELECT MAX(amount) FROM payment), (SELECT MIN(amount) FROM payment)) ''')\n",
    "avg_w = my_cursor.fetchall()\n",
    "print(avg_w)"
   ]
  },
  {
   "cell_type": "code",
   "execution_count": null,
   "id": "40853031-1ecf-441b-b0e3-6f2455e5101e",
   "metadata": {},
   "outputs": [],
   "source": [
    "# Use this to exclude only one set of Max and Min\n",
    "my_cursor.execute(''' SELECT (SUM(amount) - MIN(amount) - MAX(amount)) / (COUNT(*) - 2) AS avg_wmm FROM payment''')\n",
    "avg_without_max_min = my_cursor.fetchall()\n",
    "print(avg_without_max_min)"
   ]
  },
  {
   "cell_type": "raw",
   "id": "35e38df0-8417-415e-bf2b-7930d5488bce",
   "metadata": {},
   "source": [
    "This is the sample practice notebook. Please refer the SQL cookbook to continue with the practice. Book has the statistical example queries."
   ]
  },
  {
   "cell_type": "markdown",
   "id": "e0bf2dac",
   "metadata": {},
   "source": [
    "7.6 Generating a Running: Run the queries from 7.6 in sqlite as these queries use window functions which is not supported by MySQL Workbench"
   ]
  },
  {
   "cell_type": "code",
   "execution_count": null,
   "id": "dbb919ef",
   "metadata": {},
   "outputs": [],
   "source": [
    "import sqlite3\n",
    "import pandas as pd"
   ]
  },
  {
   "cell_type": "code",
   "execution_count": null,
   "id": "cd7ee245",
   "metadata": {},
   "outputs": [],
   "source": [
    "conn = sqlite3.connect('week1.db')\n",
    "c = conn.cursor()"
   ]
  },
  {
   "cell_type": "code",
   "execution_count": null,
   "id": "6270aa92",
   "metadata": {},
   "outputs": [],
   "source": [
    "read_emp = pd.read_csv(r'/Users/shreyagajbhiye/Desktop/adt/adt_ta/week1/emp.csv')\n",
    "read_emp.to_sql('emp', conn, if_exists='replace', index = False) # Insert the values from the csv file into the table 'emp'"
   ]
  },
  {
   "cell_type": "code",
   "execution_count": null,
   "id": "dd1e79cd",
   "metadata": {},
   "outputs": [],
   "source": [
    "read_dept = pd.read_csv(r'/Users/shreyagajbhiye/Desktop/adt/adt_ta/week1/dept.csv')\n",
    "read_dept.to_sql('dept', conn, if_exists='replace', index = False) # Insert the values from the csv file into the table 'dept'"
   ]
  },
  {
   "cell_type": "markdown",
   "id": "d45f5535",
   "metadata": {},
   "source": [
    "7.6 Generating a Running Total"
   ]
  },
  {
   "cell_type": "code",
   "execution_count": null,
   "id": "4e16cf61",
   "metadata": {},
   "outputs": [],
   "source": [
    "c.execute('''\n",
    "select ename, sal,\n",
    "sum(sal) over (order by sal,empno) as running_total\n",
    "from emp\n",
    "order by 2;\n",
    "''')\n",
    "\n",
    "colnames = c.description\n",
    "colnames_list = []\n",
    "for row in colnames:\n",
    "    colnames_list.append(row[0])\n",
    "\n",
    "df = pd.DataFrame(c.fetchall(), columns=colnames_list)\n",
    "df"
   ]
  },
  {
   "cell_type": "code",
   "execution_count": null,
   "id": "ff50cd89",
   "metadata": {},
   "outputs": [],
   "source": [
    "c.execute('''\n",
    "select empno, sal,\n",
    "sum(sal)over(order by sal,empno) as running_total1,\n",
    "sum(sal)over(order by sal) as running_total2\n",
    "from emp\n",
    "order by 2;\n",
    "''')\n",
    "\n",
    "colnames = c.description\n",
    "colnames_list = []\n",
    "for row in colnames:\n",
    "    colnames_list.append(row[0])\n",
    "\n",
    "df = pd.DataFrame(c.fetchall(), columns=colnames_list)\n",
    "df"
   ]
  },
  {
   "cell_type": "markdown",
   "id": "73e63127",
   "metadata": {},
   "source": [
    "7.7 Generating a Running Product"
   ]
  },
  {
   "cell_type": "code",
   "execution_count": null,
   "id": "d703bd38",
   "metadata": {},
   "outputs": [],
   "source": [
    "#if you are facing issues in exp and ln function, it is because of the version of MySQL that you are using.\n",
    "import math"
   ]
  },
  {
   "cell_type": "code",
   "execution_count": null,
   "id": "b658a26a",
   "metadata": {},
   "outputs": [],
   "source": [
    "conn.create_function(\"exp\", 1, math.exp)\n",
    "conn.create_function(\"ln\", 1, math.log)\n",
    "c= conn.cursor()"
   ]
  },
  {
   "cell_type": "code",
   "execution_count": null,
   "id": "be069006",
   "metadata": {},
   "outputs": [],
   "source": [
    "c.execute('''\n",
    "select empno,ename,sal,\n",
    "exp(sum(ln(sal))over(order by sal,empno)) as running_prod\n",
    "from emp\n",
    "where deptno = 10;\n",
    "''')\n",
    "\n",
    "colnames = c.description\n",
    "colnames_list = []\n",
    "for row in colnames:\n",
    "    colnames_list.append(row[0])\n",
    "\n",
    "df = pd.DataFrame(c.fetchall(), columns=colnames_list)\n",
    "df"
   ]
  },
  {
   "cell_type": "markdown",
   "id": "83c3ea4e",
   "metadata": {},
   "source": [
    "7.8 Smoothing a Series of Values - it is okay if you skip"
   ]
  },
  {
   "cell_type": "markdown",
   "id": "2163c4f1",
   "metadata": {},
   "source": [
    "7.9 Calculating a Mode"
   ]
  },
  {
   "cell_type": "code",
   "execution_count": null,
   "id": "f4c1d383",
   "metadata": {},
   "outputs": [],
   "source": [
    "c.execute('''\n",
    "select sal\n",
    "from emp\n",
    "where deptno = 20\n",
    "order by sal;\n",
    "''')\n",
    "\n",
    "colnames = c.description\n",
    "colnames_list = []\n",
    "for row in colnames:\n",
    "    colnames_list.append(row[0])\n",
    "\n",
    "df = pd.DataFrame(c.fetchall(), columns=colnames_list)\n",
    "df"
   ]
  },
  {
   "cell_type": "code",
   "execution_count": null,
   "id": "64a40eb9",
   "metadata": {},
   "outputs": [],
   "source": [
    "# Mode is 3000\n",
    "c.execute('''\n",
    "    select sal\n",
    "    from (\n",
    "    select sal,\n",
    "     dense_rank()over( order by cnt desc) as rnk\n",
    "    from (\n",
    "    select sal, count(*) as cnt\n",
    "    from emp\n",
    "    where deptno = 20\n",
    "    group by sal\n",
    "    ) x\n",
    "    ) y\n",
    "    where rnk = 1;\n",
    "''')\n",
    "\n",
    "colnames = c.description\n",
    "colnames_list = []\n",
    "for row in colnames:\n",
    "    colnames_list.append(row[0])\n",
    "\n",
    "df = pd.DataFrame(c.fetchall(), columns=colnames_list)\n",
    "df"
   ]
  },
  {
   "cell_type": "code",
   "execution_count": null,
   "id": "f34de312",
   "metadata": {},
   "outputs": [],
   "source": [
    "c.execute('''\n",
    "select sal,\n",
    "dense_rank()over(order by cnt desc) as rnk\n",
    "from (\n",
    "select sal,count(*) as cnt\n",
    "from emp\n",
    "where deptno = 20\n",
    "group by sal\n",
    ") x;\n",
    "''')\n",
    "\n",
    "colnames = c.description\n",
    "colnames_list = []\n",
    "for row in colnames:\n",
    "    colnames_list.append(row[0])\n",
    "\n",
    "df = pd.DataFrame(c.fetchall(), columns=colnames_list)\n",
    "df"
   ]
  },
  {
   "cell_type": "markdown",
   "id": "923d9b02",
   "metadata": {},
   "source": [
    "7.10 Calculating a Median\n"
   ]
  },
  {
   "cell_type": "code",
   "execution_count": null,
   "id": "25e49643",
   "metadata": {},
   "outputs": [],
   "source": [
    "c.execute('''\n",
    "select sal\n",
    "from emp\n",
    "where deptno = 20\n",
    "order by sal;\n",
    "''')\n",
    "\n",
    "colnames = c.description\n",
    "colnames_list = []\n",
    "for row in colnames:\n",
    "    colnames_list.append(row[0])\n",
    "\n",
    "df = pd.DataFrame(c.fetchall(), columns=colnames_list)\n",
    "df"
   ]
  },
  {
   "cell_type": "code",
   "execution_count": null,
   "id": "8f1306cf",
   "metadata": {},
   "outputs": [],
   "source": [
    "c.execute('''\n",
    "with rank_tab (sal, rank_sal) as\n",
    "(\n",
    "select sal, cume_dist() over (order by sal)\n",
    "from emp\n",
    "where deptno=20\n",
    "),\n",
    "inter as\n",
    "(\n",
    "select sal, rank_sal from rank_tab\n",
    "where rank_sal>=0.5\n",
    "union\n",
    "select sal, rank_sal from rank_tab\n",
    "where rank_sal<=0.5\n",
    ")\n",
    "select avg(sal) as MedianSal\n",
    "from inter;\n",
    "''')\n",
    "\n",
    "colnames = c.description\n",
    "colnames_list = []\n",
    "for row in colnames:\n",
    "    colnames_list.append(row[0])\n",
    "\n",
    "df = pd.DataFrame(c.fetchall(), columns=colnames_list)\n",
    "df"
   ]
  },
  {
   "cell_type": "markdown",
   "id": "ed43936b",
   "metadata": {},
   "source": [
    "7.11 Determining the Percentage of a Total"
   ]
  },
  {
   "cell_type": "code",
   "execution_count": null,
   "id": "c157aa45",
   "metadata": {},
   "outputs": [],
   "source": [
    "c.execute('''\n",
    "select *\n",
    "from emp where deptno=10;\n",
    "''')\n",
    "\n",
    "colnames = c.description\n",
    "colnames_list = []\n",
    "for row in colnames:\n",
    "    colnames_list.append(row[0])\n",
    "\n",
    "df = pd.DataFrame(c.fetchall(), columns=colnames_list)\n",
    "df"
   ]
  },
  {
   "cell_type": "code",
   "execution_count": null,
   "id": "fd204cb2",
   "metadata": {},
   "outputs": [],
   "source": [
    "c.execute('''\n",
    "select (CAST(sum(case when deptno = 10 then sal end) AS FLOAT)/CAST(sum(sal) AS FLOAT)\n",
    ")*100 as pct\n",
    "from emp;\n",
    "''')\n",
    "\n",
    "colnames = c.description\n",
    "colnames_list = []\n",
    "for row in colnames:\n",
    "    colnames_list.append(row[0])\n",
    "\n",
    "df = pd.DataFrame(c.fetchall(), columns=colnames_list)\n",
    "df"
   ]
  },
  {
   "cell_type": "code",
   "execution_count": null,
   "id": "76a87fad",
   "metadata": {},
   "outputs": [],
   "source": [
    "c.execute('''\n",
    "select sum(case when deptno = 10 then sal end) as d10,\n",
    "sum(sal)\n",
    "from emp;\n",
    "''')\n",
    "\n",
    "colnames = c.description\n",
    "colnames_list = []\n",
    "for row in colnames:\n",
    "    colnames_list.append(row[0])\n",
    "\n",
    "df = pd.DataFrame(c.fetchall(), columns=colnames_list)\n",
    "df"
   ]
  },
  {
   "cell_type": "code",
   "execution_count": null,
   "id": "223caeff",
   "metadata": {},
   "outputs": [],
   "source": [
    "c.execute('''\n",
    "select (cast(\n",
    "sum(case when deptno = 10 then sal end)\n",
    "as FLOAT))/CAST(sum(sal) AS FLOAT\n",
    ")*100 as pct\n",
    "from emp;\n",
    "''')\n",
    "\n",
    "colnames = c.description\n",
    "colnames_list = []\n",
    "for row in colnames:\n",
    "    colnames_list.append(row[0])\n",
    "\n",
    "df = pd.DataFrame(c.fetchall(), columns=colnames_list)\n",
    "df"
   ]
  },
  {
   "cell_type": "code",
   "execution_count": null,
   "id": "f7a5488c",
   "metadata": {},
   "outputs": [],
   "source": [
    "c.execute('''\n",
    "select deptno,\n",
    "sum(sal)over() total,\n",
    "sum(sal)over(partition by deptno) d10\n",
    "from emp;\n",
    "''')\n",
    "\n",
    "colnames = c.description\n",
    "colnames_list = []\n",
    "for row in colnames:\n",
    "    colnames_list.append(row[0])\n",
    "\n",
    "df = pd.DataFrame(c.fetchall(), columns=colnames_list)\n",
    "df"
   ]
  },
  {
   "cell_type": "code",
   "execution_count": null,
   "id": "58fea09a",
   "metadata": {},
   "outputs": [],
   "source": [
    "c.execute('''\n",
    "select deptno,\n",
    "sum(sal)over() total,\n",
    "sum(sal)over(partition by deptno) d10\n",
    "from emp\n",
    "where deptno=10;\n",
    "''')\n",
    "\n",
    "colnames = c.description\n",
    "colnames_list = []\n",
    "for row in colnames:\n",
    "    colnames_list.append(row[0])\n",
    "\n",
    "df = pd.DataFrame(c.fetchall(), columns=colnames_list)\n",
    "df"
   ]
  },
  {
   "cell_type": "markdown",
   "id": "06854eb0",
   "metadata": {},
   "source": [
    "7.12 Aggregating Nullable Columns"
   ]
  },
  {
   "cell_type": "code",
   "execution_count": null,
   "id": "c49e7e8c",
   "metadata": {},
   "outputs": [],
   "source": [
    "c.execute('''\n",
    "select avg(coalesce(comm,0)) as avg_comm\n",
    "from emp\n",
    "where deptno=30;\n",
    "''')\n",
    "\n",
    "colnames = c.description\n",
    "colnames_list = []\n",
    "for row in colnames:\n",
    "    colnames_list.append(row[0])\n",
    "\n",
    "df = pd.DataFrame(c.fetchall(), columns=colnames_list)\n",
    "df"
   ]
  },
  {
   "cell_type": "code",
   "execution_count": null,
   "id": "94f66ff8",
   "metadata": {},
   "outputs": [],
   "source": [
    "c.execute('''\n",
    "select avg(comm)\n",
    "from emp\n",
    "where deptno=30;\n",
    "''')\n",
    "\n",
    "colnames = c.description\n",
    "colnames_list = []\n",
    "for row in colnames:\n",
    "    colnames_list.append(row[0])\n",
    "\n",
    "df = pd.DataFrame(c.fetchall(), columns=colnames_list)\n",
    "df"
   ]
  },
  {
   "cell_type": "code",
   "execution_count": null,
   "id": "7b5f6718",
   "metadata": {},
   "outputs": [],
   "source": [
    "c.execute('''\n",
    "select ename, comm\n",
    "from emp\n",
    "where deptno=30\n",
    "order by comm desc;\n",
    "''')\n",
    "\n",
    "colnames = c.description\n",
    "colnames_list = []\n",
    "for row in colnames:\n",
    "    colnames_list.append(row[0])\n",
    "\n",
    "df = pd.DataFrame(c.fetchall(), columns=colnames_list)\n",
    "df"
   ]
  },
  {
   "cell_type": "markdown",
   "id": "a2e78a62",
   "metadata": {},
   "source": [
    "7.13 Computing Averages Without High and Low Values"
   ]
  },
  {
   "cell_type": "code",
   "execution_count": null,
   "id": "c41373c9",
   "metadata": {},
   "outputs": [],
   "source": [
    "c.execute('''\n",
    "select avg(sal)\n",
    "from emp\n",
    "where sal not in (\n",
    "(select min(sal) from emp),\n",
    "(select max(sal) from emp)\n",
    ");\n",
    "''')\n",
    "\n",
    "colnames = c.description\n",
    "colnames_list = []\n",
    "for row in colnames:\n",
    "    colnames_list.append(row[0])\n",
    "\n",
    "df = pd.DataFrame(c.fetchall(), columns=colnames_list)\n",
    "df"
   ]
  },
  {
   "cell_type": "code",
   "execution_count": null,
   "id": "2840bad8",
   "metadata": {},
   "outputs": [],
   "source": [
    "c.execute('''\n",
    "select (sum(sal)-min(sal)-max(sal))/(count(*)-2) AS cnt\n",
    "from emp;\n",
    "''')\n",
    "\n",
    "colnames = c.description\n",
    "colnames_list = []\n",
    "for row in colnames:\n",
    "    colnames_list.append(row[0])\n",
    "\n",
    "df = pd.DataFrame(c.fetchall(), columns=colnames_list)\n",
    "df"
   ]
  },
  {
   "cell_type": "code",
   "execution_count": null,
   "id": "264ea2bc",
   "metadata": {},
   "outputs": [],
   "source": [
    "c.execute('''\n",
    "select sal, min(sal)over() min_sal, max(sal)over() max_sal\n",
    "from emp;\n",
    "''')\n",
    "\n",
    "colnames = c.description\n",
    "colnames_list = []\n",
    "for row in colnames:\n",
    "    colnames_list.append(row[0])\n",
    "\n",
    "df = pd.DataFrame(c.fetchall(), columns=colnames_list)\n",
    "df"
   ]
  },
  {
   "cell_type": "markdown",
   "id": "a6edc70f",
   "metadata": {},
   "source": [
    "Skip 7.14, 7.15 as it uses traslate function"
   ]
  },
  {
   "cell_type": "markdown",
   "id": "43dcd0f5",
   "metadata": {},
   "source": [
    "7.16 Finding Outliers Using the Median Absolute\n",
    "Deviation"
   ]
  },
  {
   "cell_type": "code",
   "execution_count": null,
   "id": "8d120489",
   "metadata": {},
   "outputs": [],
   "source": [
    "c.execute('''\n",
    "    with rank_tab (sal, rank_sal) as (\n",
    "    select sal, cume_dist() over (order by sal)\n",
    "    from emp),\n",
    "    inter as\n",
    "    (\n",
    "    select sal, rank_sal from rank_tab\n",
    "    where rank_sal>=0.5\n",
    "    union\n",
    "    select sal, rank_sal from rank_tab\n",
    "    where rank_sal<=0.5\n",
    "    )\n",
    "    ,\n",
    "    medianSal (medianSal) as\n",
    "    (\n",
    "    select (max(sal)+min(sal))/2\n",
    "    from inter),\n",
    "    deviationSal (Sal,deviationSal) as\n",
    "    (select Sal,abs(sal-medianSal)\n",
    "    from emp join medianSal\n",
    "    on 1=1\n",
    "    )\n",
    "    ,\n",
    "    distDevSal (sal,deviationSal,distDeviationSal) as\n",
    "    (\n",
    "    select sal,deviationSal,cume_dist() over (order by deviationSal)\n",
    "    from deviationSal\n",
    "    ),\n",
    "    DevInter (DevInter, sal) as\n",
    "    (\n",
    "    select min(deviationSal), sal\n",
    "    from distDevSal\n",
    "    where distDeviationSal >= 0.5\n",
    "    union\n",
    "    select max(DeviationSal), sal\n",
    "    from distDevSal\n",
    "    where distDeviationSal <= 0.5\n",
    "    ),\n",
    "    MAD (MedianAbsoluteDeviance) as\n",
    "    (\n",
    "    select abs(emp.sal-(min(devInter)+max(devInter))/2)\n",
    "    from emp join DevInter on 1=1\n",
    "    )\n",
    "    select emp.sal,MedianAbsoluteDeviance,\n",
    "    (emp.sal-deviationSal)/MedianAbsoluteDeviance as ratio\n",
    "    from (emp join MAD on 1=1)\n",
    "    join deviationSal on emp.sal=deviationSal.sal;\n",
    "''')\n",
    "\n",
    "colnames = c.description\n",
    "colnames_list = []\n",
    "for row in colnames:\n",
    "    colnames_list.append(row[0])\n",
    "\n",
    "df = pd.DataFrame(c.fetchall(), columns=colnames_list)\n",
    "df"
   ]
  },
  {
   "cell_type": "markdown",
   "id": "5eed0712",
   "metadata": {},
   "source": [
    "Skip 7.17 Finding Anomalies Using Benford’s Law"
   ]
  },
  {
   "cell_type": "code",
   "execution_count": null,
   "id": "7d287311",
   "metadata": {},
   "outputs": [],
   "source": [
    "conn.close()"
   ]
  },
  {
   "cell_type": "code",
   "execution_count": null,
   "id": "037c9ec4",
   "metadata": {},
   "outputs": [],
   "source": []
  },
  {
   "cell_type": "code",
   "execution_count": null,
   "id": "3930212f",
   "metadata": {},
   "outputs": [],
   "source": []
  }
 ],
 "metadata": {
  "kernelspec": {
   "display_name": "Python 3 (ipykernel)",
   "language": "python",
   "name": "python3"
  },
  "language_info": {
   "codemirror_mode": {
    "name": "ipython",
    "version": 3
   },
   "file_extension": ".py",
   "mimetype": "text/x-python",
   "name": "python",
   "nbconvert_exporter": "python",
   "pygments_lexer": "ipython3",
   "version": "3.8.16"
  }
 },
 "nbformat": 4,
 "nbformat_minor": 5
}
