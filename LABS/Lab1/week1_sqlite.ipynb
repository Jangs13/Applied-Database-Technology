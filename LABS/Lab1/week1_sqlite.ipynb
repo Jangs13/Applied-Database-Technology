{
  "cells": [
    {
      "cell_type": "markdown",
      "metadata": {
        "id": "RXsQWbwt_Yz4"
      },
      "source": [
        "# Week 1 Coding Practice\n",
        "\n",
        "## Submitted by - Atharv Jangam"
      ]
    },
    {
      "cell_type": "code",
      "execution_count": null,
      "metadata": {
        "id": "bE2IZ6mX_Y0D"
      },
      "outputs": [],
      "source": [
        "import sqlite3\n",
        "import pandas as pd"
      ]
    },
    {
      "cell_type": "code",
      "execution_count": null,
      "metadata": {
        "id": "3EcpDxe2_Y0H",
        "outputId": "7a4a7858-f6e7-419c-fece-22c8559242a8"
      },
      "outputs": [
        {
          "data": {
            "text/plain": [
              "14"
            ]
          },
          "execution_count": 4,
          "metadata": {},
          "output_type": "execute_result"
        }
      ],
      "source": [
        "read_emp = pd.read_csv(r'emp.csv')\n",
        "read_emp.to_sql('emp', conn, if_exists='append', index = False) # Insert the values from the csv file into the table 'emp'"
      ]
    },
    {
      "cell_type": "markdown",
      "metadata": {
        "id": "NQPbkaYM_Y0J"
      },
      "source": [
        "STEP 3. read dept.csv and create a table dept"
      ]
    },
    {
      "cell_type": "code",
      "execution_count": null,
      "metadata": {
        "id": "Co6MywOC_Y0K",
        "outputId": "61c29b4e-a695-472a-ed3d-ea3e823854cd"
      },
      "outputs": [
        {
          "data": {
            "text/plain": [
              "4"
            ]
          },
          "execution_count": 5,
          "metadata": {},
          "output_type": "execute_result"
        }
      ],
      "source": [
        "read_dept = pd.read_csv(r'dept.csv')\n",
        "read_dept.to_sql('dept', conn, if_exists='append', index = False) # Insert the values from the csv file into the table 'dept'"
      ]
    },
    {
      "cell_type": "markdown",
      "metadata": {
        "id": "-yIkTpTv_Y0L"
      },
      "source": [
        "Execution Examples"
      ]
    },
    {
      "cell_type": "markdown",
      "metadata": {
        "id": "-uFGRP0e_Y0L"
      },
      "source": [
        "SQL statements will be executed with\n",
        "\n",
        "c.execute('''\n",
        "SQL code\n",
        "''')"
      ]
    },
    {
      "cell_type": "code",
      "execution_count": null,
      "metadata": {
        "id": "ZY6A998L_Y0M",
        "outputId": "37993a9a-77f4-46b4-e627-c1114c5ca61a"
      },
      "outputs": [
        {
          "name": "stdout",
          "output_type": "stream",
          "text": [
            "(7369, 'SMITH', 'CLERK', 7902.0, '17-Dec-05', 800, None, 20)\n",
            "(7499, 'ALLEN', 'SALESMAN', 7698.0, '20-Feb-06', 1600, 300.0, 30)\n",
            "(7521, 'WARD', 'SALESMAN', 7698.0, '22-Feb-06', 1250, 500.0, 30)\n",
            "(7566, 'JONES', 'MANAGER', 7839.0, '2-Apr-06', 2975, None, 20)\n",
            "(7654, 'MARTIN', 'SALESMAN', 7698.0, '28-Sep-06', 1250, 1400.0, 30)\n",
            "(7698, 'BLAKE', 'MANAGER', 7839.0, '1-May-06', 2850, None, 30)\n",
            "(7782, 'CLARK', 'MANAGER', 7839.0, '9-Jun-06', 2450, None, 10)\n",
            "(7788, 'SCOTT', 'ANALYST', 7566.0, '9-Dec-07', 3000, None, 20)\n",
            "(7839, 'KING', 'PRESIDENT', None, '17-Nov-06', 5000, None, 10)\n",
            "(7844, 'TURNER', 'SALESMAN', 7698.0, '8-Sep-06', 1500, 0.0, 30)\n",
            "(7876, 'ADAMS', 'CLERK', 7788.0, '12-Jan-08', 1100, None, 20)\n",
            "(7900, 'JAMES', 'CLERK', 7698.0, '3-Dec-06', 950, None, 30)\n",
            "(7902, 'FORD', 'ANALYST', 7566.0, '3-Dec-06', 3000, None, 20)\n",
            "(7934, 'MILLER', 'CLERK', 7782.0, '23-Jan-07', 1300, None, 10)\n"
          ]
        }
      ],
      "source": [
        "#Example 1\n",
        "for row in c.execute('''\n",
        "select * from emp\n",
        "'''):\n",
        "    print(row)"
      ]
    },
    {
      "cell_type": "code",
      "execution_count": null,
      "metadata": {
        "id": "Lr_dsUO-_Y0N",
        "outputId": "dc584bd8-3440-48fc-b0d9-d18123724a68"
      },
      "outputs": [
        {
          "name": "stdout",
          "output_type": "stream",
          "text": [
            "EMPNO\n",
            "ENAME\n",
            "JOB\n",
            "MGR\n",
            "HIREDATE\n",
            "SAL\n",
            "COMM\n",
            "DEPTNO\n"
          ]
        }
      ],
      "source": [
        "colnames = c.description\n",
        "for row in colnames:\n",
        "    print(row[0])"
      ]
    },
    {
      "cell_type": "markdown",
      "metadata": {
        "id": "3NWcsMV5_Y0N"
      },
      "source": [
        "To print a table, use fetchall() to collect data and add column names thaht you have selected."
      ]
    },
    {
      "cell_type": "code",
      "execution_count": null,
      "metadata": {
        "id": "WPeaXjwS_Y0N",
        "outputId": "f58dd4b4-4e3a-438d-871a-eb00f6a284a0"
      },
      "outputs": [
        {
          "name": "stdout",
          "output_type": "stream",
          "text": [
            "    EMPNO   ENAME        JOB     MGR   HIREDATE   SAL    COMM  DEPTNO\n",
            "0    7369   SMITH      CLERK  7902.0  17-Dec-05   800     NaN      20\n",
            "1    7499   ALLEN   SALESMAN  7698.0  20-Feb-06  1600   300.0      30\n",
            "2    7521    WARD   SALESMAN  7698.0  22-Feb-06  1250   500.0      30\n",
            "3    7566   JONES    MANAGER  7839.0   2-Apr-06  2975     NaN      20\n",
            "4    7654  MARTIN   SALESMAN  7698.0  28-Sep-06  1250  1400.0      30\n",
            "5    7698   BLAKE    MANAGER  7839.0   1-May-06  2850     NaN      30\n",
            "6    7782   CLARK    MANAGER  7839.0   9-Jun-06  2450     NaN      10\n",
            "7    7788   SCOTT    ANALYST  7566.0   9-Dec-07  3000     NaN      20\n",
            "8    7839    KING  PRESIDENT     NaN  17-Nov-06  5000     NaN      10\n",
            "9    7844  TURNER   SALESMAN  7698.0   8-Sep-06  1500     0.0      30\n",
            "10   7876   ADAMS      CLERK  7788.0  12-Jan-08  1100     NaN      20\n",
            "11   7900   JAMES      CLERK  7698.0   3-Dec-06   950     NaN      30\n",
            "12   7902    FORD    ANALYST  7566.0   3-Dec-06  3000     NaN      20\n",
            "13   7934  MILLER      CLERK  7782.0  23-Jan-07  1300     NaN      10\n"
          ]
        }
      ],
      "source": [
        "# Example 2\n",
        "c.execute('''\n",
        "select * from emp\n",
        "''')\n",
        "\n",
        "df = pd.DataFrame(c.fetchall(), columns=['EMPNO',\n",
        "'ENAME',\n",
        "'JOB',\n",
        "'MGR',\n",
        "'HIREDATE',\n",
        "'SAL',\n",
        "'COMM',\n",
        "'DEPTNO'])\n",
        "print(df)"
      ]
    },
    {
      "cell_type": "markdown",
      "metadata": {
        "id": "ukRxmJb0_Y0O"
      },
      "source": [
        "### Basics of SQL Queries  \n",
        "\n",
        "**SELECT**: Statement used to select rows and columns from a database.\n",
        "\n",
        "**FROM**:  Specifies which table in the database you want to direct your query to.\n",
        "\n",
        "**WHERE**: Clause for filtering for specified value(s).\n",
        "\n",
        "**GROUP BY**: Aggregating data. Needs to be used in conjunction with SQL aggregating functions like `SUM` and `COUNT`.\n",
        "\n",
        "**ORDER BY**: Sorting columns in the database.\n",
        "\n",
        "**JOIN**: Joins are used to combine tables with one another.\n",
        "\n",
        "**UNION**, **INTERSECT/EXCEPT**: Set operations. Unioning in SQL allows one to append tables on top of one another."
      ]
    },
    {
      "cell_type": "markdown",
      "metadata": {
        "id": "0155aAEh_Y0O"
      },
      "source": [
        "### Step 5. Practice Chapter 1"
      ]
    },
    {
      "cell_type": "code",
      "execution_count": null,
      "metadata": {
        "id": "gaKk-sXX_Y0P"
      },
      "outputs": [],
      "source": [
        "## Your turn"
      ]
    },
    {
      "cell_type": "markdown",
      "metadata": {
        "id": "znAxjZLq_Y0P"
      },
      "source": [
        "### Step 6. Close the connection"
      ]
    },
    {
      "cell_type": "code",
      "execution_count": null,
      "metadata": {
        "id": "pcH3pQzg_Y0P"
      },
      "outputs": [],
      "source": [
        "conn.close()"
      ]
    },
    {
      "cell_type": "markdown",
      "metadata": {
        "id": "A8JCURAJ_Y0Q"
      },
      "source": [
        "##Opening connection with database"
      ]
    },
    {
      "cell_type": "code",
      "execution_count": null,
      "metadata": {
        "id": "BPhagN_Q_Y0Q"
      },
      "outputs": [],
      "source": [
        "conn = sqlite3.connect('week1.db')\n",
        "c = conn.cursor()"
      ]
    },
    {
      "cell_type": "code",
      "execution_count": null,
      "metadata": {
        "id": "M8D6JsY1_Y0Q"
      },
      "outputs": [],
      "source": [
        "## You can continue working with SQL coding now"
      ]
    },
    {
      "cell_type": "code",
      "execution_count": null,
      "metadata": {
        "id": "P53sjV34_Y0Q",
        "outputId": "50627f5d-af47-4b37-a561-9d17939cace8"
      },
      "outputs": [
        {
          "name": "stdout",
          "output_type": "stream",
          "text": [
            "(7369, 'SMITH', 'CLERK', 7902.0, '17-Dec-05', 800, None, 20)\n",
            "(7499, 'ALLEN', 'SALESMAN', 7698.0, '20-Feb-06', 1600, 300.0, 30)\n",
            "(7521, 'WARD', 'SALESMAN', 7698.0, '22-Feb-06', 1250, 500.0, 30)\n",
            "(7566, 'JONES', 'MANAGER', 7839.0, '2-Apr-06', 2975, None, 20)\n",
            "(7654, 'MARTIN', 'SALESMAN', 7698.0, '28-Sep-06', 1250, 1400.0, 30)\n",
            "(7698, 'BLAKE', 'MANAGER', 7839.0, '1-May-06', 2850, None, 30)\n",
            "(7782, 'CLARK', 'MANAGER', 7839.0, '9-Jun-06', 2450, None, 10)\n",
            "(7788, 'SCOTT', 'ANALYST', 7566.0, '9-Dec-07', 3000, None, 20)\n",
            "(7839, 'KING', 'PRESIDENT', None, '17-Nov-06', 5000, None, 10)\n",
            "(7844, 'TURNER', 'SALESMAN', 7698.0, '8-Sep-06', 1500, 0.0, 30)\n",
            "(7876, 'ADAMS', 'CLERK', 7788.0, '12-Jan-08', 1100, None, 20)\n",
            "(7900, 'JAMES', 'CLERK', 7698.0, '3-Dec-06', 950, None, 30)\n",
            "(7902, 'FORD', 'ANALYST', 7566.0, '3-Dec-06', 3000, None, 20)\n",
            "(7934, 'MILLER', 'CLERK', 7782.0, '23-Jan-07', 1300, None, 10)\n"
          ]
        }
      ],
      "source": [
        "for row in c.execute('''select * from emp'''):\n",
        "    print(row)"
      ]
    },
    {
      "cell_type": "code",
      "execution_count": null,
      "metadata": {
        "id": "p8RWPHzX_Y0R",
        "outputId": "70f6a1cb-0b86-49cc-c95a-b0e5c8ab76c0"
      },
      "outputs": [
        {
          "name": "stdout",
          "output_type": "stream",
          "text": [
            "(7782, 'CLARK', 'MANAGER', 7839.0, '9-Jun-06', 2450, None, 10)\n",
            "(7839, 'KING', 'PRESIDENT', None, '17-Nov-06', 5000, None, 10)\n",
            "(7934, 'MILLER', 'CLERK', 7782.0, '23-Jan-07', 1300, None, 10)\n"
          ]
        }
      ],
      "source": [
        "for row in c.execute('''select * from emp where deptno = 10'''):\n",
        "    print(row)"
      ]
    },
    {
      "cell_type": "markdown",
      "source": [
        "### 1.3 Finding Rows That Satisfy Multiple Conditions"
      ],
      "metadata": {
        "id": "eLAuavxyGsxc"
      }
    },
    {
      "cell_type": "code",
      "execution_count": null,
      "metadata": {
        "id": "lcWK9qN0_Y0R",
        "outputId": "2f03d4ea-4380-4a47-b9e3-8ee7694c258a"
      },
      "outputs": [
        {
          "name": "stdout",
          "output_type": "stream",
          "text": [
            "(7369, 'SMITH', 'CLERK', 7902.0, '17-Dec-05', 800, None, 20)\n",
            "(7499, 'ALLEN', 'SALESMAN', 7698.0, '20-Feb-06', 1600, 300.0, 30)\n",
            "(7521, 'WARD', 'SALESMAN', 7698.0, '22-Feb-06', 1250, 500.0, 30)\n",
            "(7654, 'MARTIN', 'SALESMAN', 7698.0, '28-Sep-06', 1250, 1400.0, 30)\n",
            "(7782, 'CLARK', 'MANAGER', 7839.0, '9-Jun-06', 2450, None, 10)\n",
            "(7839, 'KING', 'PRESIDENT', None, '17-Nov-06', 5000, None, 10)\n",
            "(7844, 'TURNER', 'SALESMAN', 7698.0, '8-Sep-06', 1500, 0.0, 30)\n",
            "(7876, 'ADAMS', 'CLERK', 7788.0, '12-Jan-08', 1100, None, 20)\n",
            "(7934, 'MILLER', 'CLERK', 7782.0, '23-Jan-07', 1300, None, 10)\n"
          ]
        }
      ],
      "source": [
        " for row in c.execute('''select * from emp where deptno = 10 or comm is not null or sal <= 2000 and deptno=20'''):\n",
        "    print(row)"
      ]
    },
    {
      "cell_type": "code",
      "execution_count": null,
      "metadata": {
        "id": "GR_xUKhX_Y0R",
        "outputId": "1c3129c7-9fa8-47ca-9506-de6d31e884aa"
      },
      "outputs": [
        {
          "name": "stdout",
          "output_type": "stream",
          "text": [
            "(7369, 'SMITH', 'CLERK', 7902.0, '17-Dec-05', 800, None, 20)\n",
            "(7876, 'ADAMS', 'CLERK', 7788.0, '12-Jan-08', 1100, None, 20)\n"
          ]
        }
      ],
      "source": [
        "for row in c.execute('''select * from emp where  ( deptno = 10 or comm is not null or sal <= 2000 ) and deptno=20'''):\n",
        "    print(row)"
      ]
    },
    {
      "cell_type": "markdown",
      "source": [
        "### 1.4 Retrieving a Subset of Columns from a Table"
      ],
      "metadata": {
        "id": "SAWMshIvG2qB"
      }
    },
    {
      "cell_type": "code",
      "execution_count": null,
      "metadata": {
        "id": "Kx4P5Xa-_Y0S",
        "outputId": "b23e9f0e-c78d-44aa-ef5a-d8d95e45937f"
      },
      "outputs": [
        {
          "name": "stdout",
          "output_type": "stream",
          "text": [
            "('SMITH', 20, 800)\n",
            "('ALLEN', 30, 1600)\n",
            "('WARD', 30, 1250)\n",
            "('JONES', 20, 2975)\n",
            "('MARTIN', 30, 1250)\n",
            "('BLAKE', 30, 2850)\n",
            "('CLARK', 10, 2450)\n",
            "('SCOTT', 20, 3000)\n",
            "('KING', 10, 5000)\n",
            "('TURNER', 30, 1500)\n",
            "('ADAMS', 20, 1100)\n",
            "('JAMES', 30, 950)\n",
            "('FORD', 20, 3000)\n",
            "('MILLER', 10, 1300)\n"
          ]
        }
      ],
      "source": [
        "for row in c.execute('''select  ename,deptno,sal from emp'''):\n",
        "    print(row)"
      ]
    },
    {
      "cell_type": "markdown",
      "source": [
        "## 1.5 Providing Meaningful Names for Columns"
      ],
      "metadata": {
        "id": "2MqATfO5G4iV"
      }
    },
    {
      "cell_type": "code",
      "execution_count": null,
      "metadata": {
        "id": "W0qRrjKW_Y0S",
        "outputId": "fe07c52b-aa4a-439c-ee42-87116331a9d7"
      },
      "outputs": [
        {
          "name": "stdout",
          "output_type": "stream",
          "text": [
            "(800, None)\n",
            "(1600, 300.0)\n",
            "(1250, 500.0)\n",
            "(2975, None)\n",
            "(1250, 1400.0)\n",
            "(2850, None)\n",
            "(2450, None)\n",
            "(3000, None)\n",
            "(5000, None)\n",
            "(1500, 0.0)\n",
            "(1100, None)\n",
            "(950, None)\n",
            "(3000, None)\n",
            "(1300, None)\n"
          ]
        }
      ],
      "source": [
        "for row in c.execute('''select sal as salary, comm as commission from emp'''):\n",
        "    print(row)"
      ]
    },
    {
      "cell_type": "code",
      "execution_count": null,
      "metadata": {
        "id": "ySAZPMrO_Y0T"
      },
      "outputs": [],
      "source": []
    }
  ],
  "metadata": {
    "kernelspec": {
      "display_name": "Python 3 (ipykernel)",
      "language": "python",
      "name": "python3"
    },
    "language_info": {
      "codemirror_mode": {
        "name": "ipython",
        "version": 3
      },
      "file_extension": ".py",
      "mimetype": "text/x-python",
      "name": "python",
      "nbconvert_exporter": "python",
      "pygments_lexer": "ipython3",
      "version": "3.9.12"
    },
    "colab": {
      "provenance": []
    }
  },
  "nbformat": 4,
  "nbformat_minor": 0
}